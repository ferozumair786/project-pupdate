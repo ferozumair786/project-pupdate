{
 "cells": [
  {
   "cell_type": "code",
   "execution_count": 1,
   "metadata": {},
   "outputs": [],
   "source": [
    "# Dependencies\n",
    "from splinter import Browser\n",
    "from splinter.exceptions import ElementDoesNotExist\n",
    "from sqlalchemy import create_engine\n",
    "from bs4 import BeautifulSoup\n",
    "import requests\n",
    "import pandas as pd"
   ]
  },
  {
   "cell_type": "code",
   "execution_count": 2,
   "metadata": {},
   "outputs": [],
   "source": [
    "engine = create_engine('sqlite://', echo=False)"
   ]
  },
  {
   "cell_type": "code",
   "execution_count": 3,
   "metadata": {},
   "outputs": [],
   "source": [
    "# Returns list of all breeds from 'Dogtime' \n",
    "def get_breeds():\n",
    "    temp = []\n",
    "    url = 'https://dogtime.com/dog-breeds/profiles'\n",
    "    response = requests.get(url)\n",
    "    soup = BeautifulSoup(response.text, 'html.parser')\n",
    "    \n",
    "    results = soup.find_all('div', class_=\"list-item\")\n",
    "    for result in results:\n",
    "        try:\n",
    "            breed = result.find('a', class_=\"list-item-title\").text\n",
    "            if (breed):\n",
    "                temp.append(breed)\n",
    "        except AttributeError as e:\n",
    "            print(e)\n",
    "    return temp"
   ]
  },
  {
   "cell_type": "code",
   "execution_count": 4,
   "metadata": {},
   "outputs": [],
   "source": [
    "# Returns attributes of individual breed\n",
    "def get_attributes(breed):\n",
    "    try:\n",
    "        url = f\"https://www.akc.org/dog-breeds/{breed}/\"\n",
    "        response = requests.get(url)\n",
    "        soup = BeautifulSoup(response.text, \"html.parser\")\n",
    "        retreiver = soup.find('div', class_='panel-flex__aside')\n",
    "\n",
    "        attributes = []\n",
    "        for list_ in retreiver.ul:\n",
    "            for attr in list_:\n",
    "                try:\n",
    "                    attributes.append(attr.text.strip())\n",
    "                except:\n",
    "                    attributes.append(attr.strip())\n",
    "\n",
    "        attributes  = [a for a in attributes if a is not '']\n",
    "\n",
    "        keys = [a for a in attributes if attributes.index(a) % 2 == 0]\n",
    "        keys = [x[:-1] for x in keys]\n",
    "        values = [a for a in attributes if attributes.index(a) % 2 != 0]\n",
    "        dictionary = dict(zip(keys, values))\n",
    "\n",
    "        # Add grooming frequency\n",
    "        groom = soup.find('div', class_=\"bar-graph__text\").text\n",
    "        groomkey = {'Grooming frequency': groom}\n",
    "        dictionary.update(groomkey)\n",
    "\n",
    "        # Add shedding measure\n",
    "        shed = soup.find_all('div', class_=\"bar-graph__text\")\n",
    "        shed = shed[(len(shed)-4)]\n",
    "        shed = str(shed)\n",
    "        shed = shed[29:-6]\n",
    "        shedkey = {'Shedding': shed}\n",
    "        dictionary.update(shedkey)\n",
    "\n",
    "        # Add trainability measure\n",
    "        train = soup.find_all('div', class_=\"bar-graph__text\")\n",
    "        train = train[(len(train)-2)]\n",
    "        train = str(train)\n",
    "        train = train[29:-6]\n",
    "        trainkey = {'Trainability': train}\n",
    "        dictionary.update(trainkey)\n",
    "\n",
    "        # Add activity measure\n",
    "        activity = soup.find_all('div', class_=\"bar-graph__text\")\n",
    "        activity = activity[(len(activity)-3)]\n",
    "        activity = str(activity)\n",
    "        activity = activity[29:-6]\n",
    "        activitykey = {'Energy level': activity}\n",
    "        dictionary.update(activitykey)\n",
    "\n",
    "        # Clean up & add breed name\n",
    "        breedvalue = str(breed)\n",
    "        breedvalue = breedvalue.replace(\"-\", \" \")\n",
    "        breedkey = {'Breed' : breedvalue.title()}\n",
    "        dictionary.update(breedkey)\n",
    "\n",
    "        # Clean up & add url for image of breed\n",
    "        img = soup.find('div', class_=\"basic-slider__inner\").find(\"img\")\n",
    "        pupurl = (str(img).split(\"src=\"))\n",
    "        link = [x[1:-3] for x in pupurl]\n",
    "        image = link[1]\n",
    "        linkkey = {'Image URL' : image}\n",
    "        dictionary.update(linkkey)\n",
    "\n",
    "        output = [dictionary]\n",
    "        return output\n",
    "    \n",
    "    except AttributeError as e:\n",
    "        print(e)\n",
    "        print(f\"Could not find page for: {breed.title()}\")"
   ]
  },
  {
   "cell_type": "code",
   "execution_count": 5,
   "metadata": {},
   "outputs": [],
   "source": [
    "# On the backburner for now, will code later\n",
    "# def get_funfact(breed):\n",
    "#     url = f\"https://www.akc.org/dog-breeds/{breed}/\"\n",
    "#     response = requests.get(url)\n",
    "#     soup = BeautifulSoup(response.text, \"html.parser\")\n",
    "#     retreiver = soup.find('div', class_='fact-slider__slide-content')\n",
    "    \n",
    "#     return funfact"
   ]
  },
  {
   "cell_type": "code",
   "execution_count": 6,
   "metadata": {
    "scrolled": true
   },
   "outputs": [
    {
     "name": "stdout",
     "output_type": "stream",
     "text": [
      "'NoneType' object has no attribute 'ul'\n",
      "Could not find page for: Alaskan-Klee-Kai\n",
      "'NoneType' object has no attribute 'ul'\n",
      "Could not find page for: American-Bulldog\n",
      "'NoneType' object has no attribute 'ul'\n",
      "Could not find page for: American-Pit-Bull-Terrier\n"
     ]
    },
    {
     "name": "stderr",
     "output_type": "stream",
     "text": [
      "C:\\Users\\rclar\\Anaconda3\\lib\\site-packages\\pandas\\core\\indexing.py:1472: FutureWarning: \n",
      "Passing list-likes to .loc or [] with any missing label will raise\n",
      "KeyError in the future, you can use .reindex() as an alternative.\n",
      "\n",
      "See the documentation here:\n",
      "https://pandas.pydata.org/pandas-docs/stable/indexing.html#deprecate-loc-reindex-listlike\n",
      "  return self._getitem_tuple(key)\n"
     ]
    },
    {
     "name": "stdout",
     "output_type": "stream",
     "text": [
      "'NoneType' object has no attribute 'ul'\n",
      "Could not find page for: Basset-Hound\n",
      "'NoneType' object has no attribute 'ul'\n",
      "Could not find page for: Bernedoodle\n",
      "'NoneType' object has no attribute 'ul'\n",
      "Could not find page for: Black-Mouth-Cur\n",
      "'NoneType' object has no attribute 'ul'\n",
      "Could not find page for: Blue-Lacy\n",
      "'NoneType' object has no attribute 'ul'\n",
      "Could not find page for: Cockapoo\n",
      "'NoneType' object has no attribute 'ul'\n",
      "Could not find page for: Fox-Terrier\n",
      "'NoneType' object has no attribute 'ul'\n",
      "Could not find page for: Goldador\n",
      "'NoneType' object has no attribute 'ul'\n",
      "Could not find page for: Goldendoodle\n",
      "'NoneType' object has no attribute 'ul'\n",
      "Could not find page for: Jack-Russell-Terrier\n",
      "'NoneType' object has no attribute 'ul'\n",
      "Could not find page for: Japanese-Spitz\n",
      "'NoneType' object has no attribute 'ul'\n",
      "Could not find page for: Korean-Jindo-Dog\n",
      "'NoneType' object has no attribute 'ul'\n",
      "Could not find page for: Labradoodle\n",
      "'NoneType' object has no attribute 'text'\n",
      "Could not find page for: Lagotto-Romagnolo\n",
      "'NoneType' object has no attribute 'ul'\n",
      "Could not find page for: Maltese-Shih-Tzu\n",
      "'NoneType' object has no attribute 'ul'\n",
      "Could not find page for: Maltipoo\n",
      "'NoneType' object has no attribute 'ul'\n",
      "Could not find page for: Mutt\n",
      "'NoneType' object has no attribute 'ul'\n",
      "Could not find page for: Peekapoo\n",
      "'NoneType' object has no attribute 'ul'\n",
      "Could not find page for: Pocket-Beagle\n",
      "'NoneType' object has no attribute 'ul'\n",
      "Could not find page for: Pomsky\n",
      "'NoneType' object has no attribute 'ul'\n",
      "Could not find page for: Puggle\n",
      "'NoneType' object has no attribute 'ul'\n",
      "Could not find page for: Saint-Bernard\n",
      "'NoneType' object has no attribute 'ul'\n",
      "Could not find page for: Schnoodle\n",
      "'NoneType' object has no attribute 'ul'\n",
      "Could not find page for: Silken-Windhound\n",
      "'NoneType' object has no attribute 'text'\n",
      "Could not find page for: Sloughi\n",
      "'NoneType' object has no attribute 'ul'\n",
      "Could not find page for: West-Highland-White-Terrier\n",
      "'NoneType' object has no attribute 'ul'\n",
      "Could not find page for: Yorkipoo\n"
     ]
    }
   ],
   "source": [
    "# Filling dataframe using functions get_breeds and get_attributes\n",
    "df = pd.DataFrame()\n",
    "breeds = get_breeds()\n",
    "ready_breeds = [e.replace(\" \", \"-\") for e in breeds]\n",
    "ready_breeds = [e.lower() for e in ready_breeds]\n",
    "for pup in ready_breeds:\n",
    "    df = df.append(get_attributes(pup))"
   ]
  },
  {
   "cell_type": "code",
   "execution_count": 7,
   "metadata": {},
   "outputs": [],
   "source": [
    "df = df.set_index(\"Breed\")\n",
    "df.head()\n",
    "df.to_csv(\"..\\Resources\\dirtydatascraped.csv\")"
   ]
  }
 ],
 "metadata": {
  "kernelspec": {
   "display_name": "Python 3",
   "language": "python",
   "name": "python3"
  },
  "language_info": {
   "codemirror_mode": {
    "name": "ipython",
    "version": 3
   },
   "file_extension": ".py",
   "mimetype": "text/x-python",
   "name": "python",
   "nbconvert_exporter": "python",
   "pygments_lexer": "ipython3",
   "version": "3.7.1"
  }
 },
 "nbformat": 4,
 "nbformat_minor": 2
}
