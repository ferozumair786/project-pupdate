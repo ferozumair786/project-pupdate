{
 "cells": [
  {
   "cell_type": "code",
   "execution_count": 1,
   "metadata": {},
   "outputs": [],
   "source": [
    "from splinter import Browser\n",
    "from bs4 import BeautifulSoup\n",
    "import requests\n",
    "import pandas as pd"
   ]
  },
  {
   "cell_type": "code",
   "execution_count": 2,
   "metadata": {},
   "outputs": [],
   "source": [
    "url = \"https://www.akc.org/dog-breeds/golden-retriever/\""
   ]
  },
  {
   "cell_type": "code",
   "execution_count": 3,
   "metadata": {},
   "outputs": [],
   "source": [
    "response = requests.get(url)"
   ]
  },
  {
   "cell_type": "code",
   "execution_count": 4,
   "metadata": {},
   "outputs": [],
   "source": [
    "soup = BeautifulSoup(response.text, \"html.parser\")"
   ]
  },
  {
   "cell_type": "code",
   "execution_count": 5,
   "metadata": {},
   "outputs": [],
   "source": [
    "retreiver = soup.find('div', class_='panel-flex__aside')"
   ]
  },
  {
   "cell_type": "code",
   "execution_count": 51,
   "metadata": {},
   "outputs": [],
   "source": [
    "attributes = []\n",
    "for list_ in retreiver.ul:\n",
    "    for attr in list_:\n",
    "        try:\n",
    "            attributes.append(attr.text.strip())\n",
    "        except:\n",
    "            attributes.append(attr.strip())"
   ]
  },
  {
   "cell_type": "code",
   "execution_count": 53,
   "metadata": {},
   "outputs": [],
   "source": [
    "attributes  = [a for a in attributes if a is not '']"
   ]
  },
  {
   "cell_type": "code",
   "execution_count": 58,
   "metadata": {},
   "outputs": [
    {
     "name": "stdout",
     "output_type": "stream",
     "text": [
      "['Temperament:', 'Friendly, Intelligent, Devoted', 'AKC Breed Popularity:', 'Ranks 3 of 193', 'Height:', '23-24 inches (male), 21.5-22.5 inches (female)', 'Weight:', '65-75 pounds (male), 55-65 pounds (female)', 'Life Expectancy:', '10-12 years', 'Group:', 'Sporting Group', 'The AKC has grouped all of the breeds that it registers into seven categories, or groups, roughly based on function and heritage. Breeds are grouped together because they share traits of form and function or a common heritage.']\n"
     ]
    }
   ],
   "source": [
    "print(attributes)"
   ]
  },
  {
   "cell_type": "code",
   "execution_count": 68,
   "metadata": {},
   "outputs": [],
   "source": [
    "keys = [a for a in attributes if attributes.index(a) % 2 == 0]\n",
    "values = [a for a in attributes if attributes.index(a) % 2 != 0]\n",
    "dictionary = dict(zip(keys, values))"
   ]
  },
  {
   "cell_type": "code",
   "execution_count": 70,
   "metadata": {},
   "outputs": [
    {
     "name": "stdout",
     "output_type": "stream",
     "text": [
      "{'Temperament:': 'Friendly, Intelligent, Devoted', 'AKC Breed Popularity:': 'Ranks 3 of 193', 'Height:': '23-24 inches (male), 21.5-22.5 inches (female)', 'Weight:': '65-75 pounds (male), 55-65 pounds (female)', 'Life Expectancy:': '10-12 years', 'Group:': 'Sporting Group'}\n"
     ]
    }
   ],
   "source": [
    "print(dictionary)"
   ]
  },
  {
   "cell_type": "code",
   "execution_count": 77,
   "metadata": {},
   "outputs": [],
   "source": [
    "data = [dictionary]\n",
    "\n",
    "dog_df = pd.DataFrame(data)"
   ]
  },
  {
   "cell_type": "code",
   "execution_count": 78,
   "metadata": {},
   "outputs": [
    {
     "data": {
      "text/html": [
       "<div>\n",
       "<style scoped>\n",
       "    .dataframe tbody tr th:only-of-type {\n",
       "        vertical-align: middle;\n",
       "    }\n",
       "\n",
       "    .dataframe tbody tr th {\n",
       "        vertical-align: top;\n",
       "    }\n",
       "\n",
       "    .dataframe thead th {\n",
       "        text-align: right;\n",
       "    }\n",
       "</style>\n",
       "<table border=\"1\" class=\"dataframe\">\n",
       "  <thead>\n",
       "    <tr style=\"text-align: right;\">\n",
       "      <th></th>\n",
       "      <th>AKC Breed Popularity:</th>\n",
       "      <th>Group:</th>\n",
       "      <th>Height:</th>\n",
       "      <th>Life Expectancy:</th>\n",
       "      <th>Temperament:</th>\n",
       "      <th>Weight:</th>\n",
       "    </tr>\n",
       "  </thead>\n",
       "  <tbody>\n",
       "    <tr>\n",
       "      <th>0</th>\n",
       "      <td>Ranks 3 of 193</td>\n",
       "      <td>Sporting Group</td>\n",
       "      <td>23-24 inches (male), 21.5-22.5 inches (female)</td>\n",
       "      <td>10-12 years</td>\n",
       "      <td>Friendly, Intelligent, Devoted</td>\n",
       "      <td>65-75 pounds (male), 55-65 pounds (female)</td>\n",
       "    </tr>\n",
       "  </tbody>\n",
       "</table>\n",
       "</div>"
      ],
      "text/plain": [
       "  AKC Breed Popularity:          Group:  \\\n",
       "0        Ranks 3 of 193  Sporting Group   \n",
       "\n",
       "                                          Height: Life Expectancy:  \\\n",
       "0  23-24 inches (male), 21.5-22.5 inches (female)      10-12 years   \n",
       "\n",
       "                     Temperament:                                     Weight:  \n",
       "0  Friendly, Intelligent, Devoted  65-75 pounds (male), 55-65 pounds (female)  "
      ]
     },
     "execution_count": 78,
     "metadata": {},
     "output_type": "execute_result"
    }
   ],
   "source": [
    "dog_df"
   ]
  },
  {
   "cell_type": "code",
   "execution_count": null,
   "metadata": {},
   "outputs": [],
   "source": []
  }
 ],
 "metadata": {
  "kernelspec": {
   "display_name": "Python 3",
   "language": "python",
   "name": "python3"
  },
  "language_info": {
   "codemirror_mode": {
    "name": "ipython",
    "version": 3
   },
   "file_extension": ".py",
   "mimetype": "text/x-python",
   "name": "python",
   "nbconvert_exporter": "python",
   "pygments_lexer": "ipython3",
   "version": "3.7.1"
  }
 },
 "nbformat": 4,
 "nbformat_minor": 2
}
