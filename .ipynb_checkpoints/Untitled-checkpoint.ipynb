{
 "cells": [
  {
   "cell_type": "code",
   "execution_count": 1,
   "metadata": {},
   "outputs": [],
   "source": [
    "from splinter import Browser\n",
    "from bs4 import BeautifulSoup\n",
    "import requests\n",
    "import pandas as pd\n",
    "import statistics"
   ]
  },
  {
   "cell_type": "code",
   "execution_count": 2,
   "metadata": {},
   "outputs": [],
   "source": [
    "url = \"https://www.akc.org/dog-breeds/golden-retriever/\""
   ]
  },
  {
   "cell_type": "code",
   "execution_count": 3,
   "metadata": {},
   "outputs": [],
   "source": [
    "response = requests.get(url)"
   ]
  },
  {
   "cell_type": "code",
   "execution_count": 4,
   "metadata": {},
   "outputs": [],
   "source": [
    "soup = BeautifulSoup(response.text, \"html.parser\")"
   ]
  },
  {
   "cell_type": "code",
   "execution_count": 5,
   "metadata": {},
   "outputs": [],
   "source": [
    "retreiver = soup.find('div', class_='panel-flex__aside')"
   ]
  },
  {
   "cell_type": "code",
   "execution_count": 6,
   "metadata": {},
   "outputs": [],
   "source": [
    "attributes = []\n",
    "for list_ in retreiver.ul:\n",
    "    for attr in list_:\n",
    "        try:\n",
    "            attributes.append(attr.text.strip())\n",
    "        except:\n",
    "            attributes.append(attr.strip())"
   ]
  },
  {
   "cell_type": "code",
   "execution_count": 7,
   "metadata": {},
   "outputs": [],
   "source": [
    "attributes  = [a for a in attributes if a is not '']"
   ]
  },
  {
   "cell_type": "code",
   "execution_count": 8,
   "metadata": {},
   "outputs": [
    {
     "name": "stdout",
     "output_type": "stream",
     "text": [
      "['Temperament:', 'Friendly, Intelligent, Devoted', 'AKC Breed Popularity:', 'Ranks 3 of 193', 'Height:', '23-24 inches (male), 21.5-22.5 inches (female)', 'Weight:', '65-75 pounds (male), 55-65 pounds (female)', 'Life Expectancy:', '10-12 years', 'Group:', 'Sporting Group', 'The AKC has grouped all of the breeds that it registers into seven categories, or groups, roughly based on function and heritage. Breeds are grouped together because they share traits of form and function or a common heritage.']\n"
     ]
    }
   ],
   "source": [
    "print(attributes)"
   ]
  },
  {
   "cell_type": "code",
   "execution_count": 9,
   "metadata": {},
   "outputs": [],
   "source": [
    "keys = [a for a in attributes if attributes.index(a) % 2 == 0]\n",
    "values = [a for a in attributes if attributes.index(a) % 2 != 0]\n",
    "dictionary = dict(zip(keys, values))"
   ]
  },
  {
   "cell_type": "code",
   "execution_count": 10,
   "metadata": {},
   "outputs": [
    {
     "name": "stdout",
     "output_type": "stream",
     "text": [
      "{'Temperament:': 'Friendly, Intelligent, Devoted', 'AKC Breed Popularity:': 'Ranks 3 of 193', 'Height:': '23-24 inches (male), 21.5-22.5 inches (female)', 'Weight:': '65-75 pounds (male), 55-65 pounds (female)', 'Life Expectancy:': '10-12 years', 'Group:': 'Sporting Group'}\n"
     ]
    }
   ],
   "source": [
    "print(dictionary)"
   ]
  },
  {
   "cell_type": "code",
   "execution_count": 11,
   "metadata": {},
   "outputs": [],
   "source": [
    "data = [dictionary]\n",
    "\n",
    "dog_df = pd.DataFrame(data)"
   ]
  },
  {
   "cell_type": "code",
   "execution_count": 12,
   "metadata": {},
   "outputs": [
    {
     "data": {
      "text/html": [
       "<div>\n",
       "<style scoped>\n",
       "    .dataframe tbody tr th:only-of-type {\n",
       "        vertical-align: middle;\n",
       "    }\n",
       "\n",
       "    .dataframe tbody tr th {\n",
       "        vertical-align: top;\n",
       "    }\n",
       "\n",
       "    .dataframe thead th {\n",
       "        text-align: right;\n",
       "    }\n",
       "</style>\n",
       "<table border=\"1\" class=\"dataframe\">\n",
       "  <thead>\n",
       "    <tr style=\"text-align: right;\">\n",
       "      <th></th>\n",
       "      <th>AKC Breed Popularity:</th>\n",
       "      <th>Group:</th>\n",
       "      <th>Height:</th>\n",
       "      <th>Life Expectancy:</th>\n",
       "      <th>Temperament:</th>\n",
       "      <th>Weight:</th>\n",
       "    </tr>\n",
       "  </thead>\n",
       "  <tbody>\n",
       "    <tr>\n",
       "      <th>0</th>\n",
       "      <td>Ranks 3 of 193</td>\n",
       "      <td>Sporting Group</td>\n",
       "      <td>23-24 inches (male), 21.5-22.5 inches (female)</td>\n",
       "      <td>10-12 years</td>\n",
       "      <td>Friendly, Intelligent, Devoted</td>\n",
       "      <td>65-75 pounds (male), 55-65 pounds (female)</td>\n",
       "    </tr>\n",
       "  </tbody>\n",
       "</table>\n",
       "</div>"
      ],
      "text/plain": [
       "  AKC Breed Popularity:          Group:  \\\n",
       "0        Ranks 3 of 193  Sporting Group   \n",
       "\n",
       "                                          Height: Life Expectancy:  \\\n",
       "0  23-24 inches (male), 21.5-22.5 inches (female)      10-12 years   \n",
       "\n",
       "                     Temperament:                                     Weight:  \n",
       "0  Friendly, Intelligent, Devoted  65-75 pounds (male), 55-65 pounds (female)  "
      ]
     },
     "execution_count": 12,
     "metadata": {},
     "output_type": "execute_result"
    }
   ],
   "source": [
    "dog_df"
   ]
  },
  {
   "cell_type": "code",
   "execution_count": 13,
   "metadata": {},
   "outputs": [],
   "source": [
    "dog_df['life_expectancy_low'] = int(dog_df['Life Expectancy:'].str.split(' ')[0][0].split('-')[0])\n",
    "dog_df['life_expectancy_high'] = int(dog_df['Life Expectancy:'].str.split(' ')[0][0].split('-')[1])"
   ]
  },
  {
   "cell_type": "code",
   "execution_count": 14,
   "metadata": {},
   "outputs": [],
   "source": [
    "dog_df['avg_life_expectancy'] = dog_df[['life_expectancy_low', 'life_expectancy_high']].mean(axis=1)"
   ]
  },
  {
   "cell_type": "code",
   "execution_count": 15,
   "metadata": {},
   "outputs": [],
   "source": [
    "dog_df['weight_male'] = dog_df['Weight:'].str.split(',')[0][0]\n",
    "dog_df['weight_female'] = dog_df['Weight:'].str.split(',')[0][1]"
   ]
  },
  {
   "cell_type": "code",
   "execution_count": 16,
   "metadata": {},
   "outputs": [],
   "source": [
    "dog_df['weight_male_low'] = int(dog_df['weight_male'].str.split(' ')[0][0].split('-')[0])\n",
    "dog_df['weight_male_high'] = int(dog_df['weight_male'].str.split(' ')[0][0].split('-')[1])"
   ]
  },
  {
   "cell_type": "code",
   "execution_count": 17,
   "metadata": {},
   "outputs": [],
   "source": [
    "dog_df['weight_female_low'] = int(dog_df['weight_female'].str.split(' ')[0][1].split('-')[0])\n",
    "dog_df['weight_female_high'] = int(dog_df['weight_female'].str.split(' ')[0][1].split('-')[1])"
   ]
  },
  {
   "cell_type": "code",
   "execution_count": 18,
   "metadata": {},
   "outputs": [],
   "source": [
    "dog_df['avg_weight_male_lbs'] = dog_df[['weight_male_low', 'weight_male_high']].mean(axis=1)\n",
    "dog_df['avg_weight_female_lbs'] = dog_df[['weight_female_low', 'weight_female_high']].mean(axis=1)"
   ]
  },
  {
   "cell_type": "code",
   "execution_count": 19,
   "metadata": {},
   "outputs": [],
   "source": [
    "dog_df['height_male'] = dog_df['Height:'].str.split(',')[0][0]\n",
    "dog_df['height_female'] = dog_df['Height:'].str.split(',')[0][1]"
   ]
  },
  {
   "cell_type": "code",
   "execution_count": 20,
   "metadata": {},
   "outputs": [],
   "source": [
    "dog_df['height_male_low'] = int(dog_df['height_male'].str.split(' ')[0][0].split('-')[0])\n",
    "dog_df['height_male_high'] = int(dog_df['height_male'].str.split(' ')[0][0].split('-')[1])"
   ]
  },
  {
   "cell_type": "code",
   "execution_count": 21,
   "metadata": {},
   "outputs": [],
   "source": [
    "dog_df['height_female_low'] = float(dog_df['height_female'].str.split(' ')[0][1].split('-')[0])\n",
    "dog_df['height_female_high'] = float(dog_df['height_female'].str.split(' ')[0][1].split('-')[1])"
   ]
  },
  {
   "cell_type": "code",
   "execution_count": 22,
   "metadata": {},
   "outputs": [],
   "source": [
    "dog_df['avg_height_male_in'] = dog_df[['height_male_low', 'height_male_high']].mean(axis=1)\n",
    "dog_df['avg_height_female_in'] = dog_df[['height_female_low', 'height_female_high']].mean(axis=1)"
   ]
  },
  {
   "cell_type": "code",
   "execution_count": 23,
   "metadata": {},
   "outputs": [],
   "source": [
    "dog_df['rank'] = int(dog_df['AKC Breed Popularity:'].str.split(' ')[0][1])"
   ]
  },
  {
   "cell_type": "code",
   "execution_count": 26,
   "metadata": {},
   "outputs": [],
   "source": [
    "doggy_df = dog_df[['rank','Group:', 'Temperament:', 'avg_life_expectancy', 'avg_height_male_in', 'avg_height_female_in', 'avg_weight_male_lbs', 'avg_weight_female_lbs']]"
   ]
  },
  {
   "cell_type": "code",
   "execution_count": 28,
   "metadata": {},
   "outputs": [
    {
     "data": {
      "text/html": [
       "<div>\n",
       "<style scoped>\n",
       "    .dataframe tbody tr th:only-of-type {\n",
       "        vertical-align: middle;\n",
       "    }\n",
       "\n",
       "    .dataframe tbody tr th {\n",
       "        vertical-align: top;\n",
       "    }\n",
       "\n",
       "    .dataframe thead th {\n",
       "        text-align: right;\n",
       "    }\n",
       "</style>\n",
       "<table border=\"1\" class=\"dataframe\">\n",
       "  <thead>\n",
       "    <tr style=\"text-align: right;\">\n",
       "      <th></th>\n",
       "      <th>rank</th>\n",
       "      <th>group</th>\n",
       "      <th>Temperament:</th>\n",
       "      <th>avg_life_expectancy</th>\n",
       "      <th>avg_height_male_in</th>\n",
       "      <th>avg_height_female_in</th>\n",
       "      <th>avg_weight_male_lbs</th>\n",
       "      <th>avg_weight_female_lbs</th>\n",
       "    </tr>\n",
       "  </thead>\n",
       "  <tbody>\n",
       "    <tr>\n",
       "      <th>0</th>\n",
       "      <td>3</td>\n",
       "      <td>Sporting Group</td>\n",
       "      <td>Friendly, Intelligent, Devoted</td>\n",
       "      <td>11.0</td>\n",
       "      <td>23.5</td>\n",
       "      <td>22.0</td>\n",
       "      <td>70.0</td>\n",
       "      <td>60.0</td>\n",
       "    </tr>\n",
       "  </tbody>\n",
       "</table>\n",
       "</div>"
      ],
      "text/plain": [
       "   rank           group                    Temperament:  avg_life_expectancy  \\\n",
       "0     3  Sporting Group  Friendly, Intelligent, Devoted                 11.0   \n",
       "\n",
       "   avg_height_male_in  avg_height_female_in  avg_weight_male_lbs  \\\n",
       "0                23.5                  22.0                 70.0   \n",
       "\n",
       "   avg_weight_female_lbs  \n",
       "0                   60.0  "
      ]
     },
     "execution_count": 28,
     "metadata": {},
     "output_type": "execute_result"
    }
   ],
   "source": [
    "doggy_df.rename(columns={'Group:':'group', 'Temprament:':'temprament'})"
   ]
  },
  {
   "cell_type": "code",
   "execution_count": null,
   "metadata": {},
   "outputs": [],
   "source": []
  }
 ],
 "metadata": {
  "kernelspec": {
   "display_name": "Python 3",
   "language": "python",
   "name": "python3"
  },
  "language_info": {
   "codemirror_mode": {
    "name": "ipython",
    "version": 3
   },
   "file_extension": ".py",
   "mimetype": "text/x-python",
   "name": "python",
   "nbconvert_exporter": "python",
   "pygments_lexer": "ipython3",
   "version": "3.7.1"
  }
 },
 "nbformat": 4,
 "nbformat_minor": 2
}
